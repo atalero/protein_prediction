{
 "cells": [
  {
   "cell_type": "code",
   "execution_count": 26,
   "metadata": {
    "colab": {},
    "colab_type": "code",
    "id": "KXJJLi92WjKg"
   },
   "outputs": [],
   "source": [
    "import pickle\n",
    "import pandas as pd\n",
    "import numpy as np"
   ]
  },
  {
   "cell_type": "code",
   "execution_count": 27,
   "metadata": {
    "colab": {},
    "colab_type": "code",
    "id": "FbBzqDfctNsv"
   },
   "outputs": [],
   "source": [
    "import tensorflow as tf"
   ]
  },
  {
   "cell_type": "code",
   "execution_count": 29,
   "metadata": {
    "colab": {},
    "colab_type": "code",
    "id": "IiGUOTJg0Qmn"
   },
   "outputs": [
    {
     "name": "stderr",
     "output_type": "stream",
     "text": [
      "Using TensorFlow backend.\n"
     ]
    }
   ],
   "source": [
    "from tensorflow import keras\n",
    "from keras.models import Sequential\n",
    "from keras.layers import Dense, Conv2D, MaxPooling2D, Flatten, Dropout"
   ]
  },
  {
   "cell_type": "markdown",
   "metadata": {
    "colab_type": "text",
    "id": "vLculauAXw3T"
   },
   "source": [
    "There are multiple ways of loading data depending on where you load it from. Just run the relevant code block below (or add your own)"
   ]
  },
  {
   "cell_type": "markdown",
   "metadata": {},
   "source": [
    "Note: I am not sure about  order of psi and phi. \n",
    "index => 0,1,2,3,...\n",
    "pdb => unique name of protein\n",
    "pdb_aa => amino acid sequence over 21 chars\n",
    "q8 => sequence over eight chars\n",
    "dist_matrix =>  ouput 1\n",
    "\n",
    "FOR PART II\n",
    "outputs are psi and phi"
   ]
  },
  {
   "cell_type": "code",
   "execution_count": 33,
   "metadata": {},
   "outputs": [],
   "source": [
    "# load train data for a specific fold\n",
    "datafile = \"./data/train_fold_1.pkl\"\n",
    "with open(datafile, 'rb') as f:\n",
    "    data =  pickle.load(f)\n",
    "\n",
    "indices, pdbs, length_aas, pdb_aas, q8s, dcalphas, psis, phis, msas = data"
   ]
  },
  {
   "cell_type": "code",
   "execution_count": 35,
   "metadata": {},
   "outputs": [
    {
     "data": {
      "text/plain": [
       "array([[ 0.       ,  3.7909431,  5.3836036, ..., 35.913857 , 36.073666 ,\n",
       "        36.154446 ],\n",
       "       [ 3.7909431,  0.       ,  3.824118 , ..., 32.125286 , 32.323223 ,\n",
       "        32.45672  ],\n",
       "       [ 5.3836036,  3.824118 ,  0.       , ..., 32.49437  , 33.124645 ,\n",
       "        33.403862 ],\n",
       "       ...,\n",
       "       [35.913857 , 32.125286 , 32.49437  , ...,  0.       ,  3.8289092,\n",
       "         6.7096343],\n",
       "       [36.073666 , 32.323223 , 33.124645 , ...,  3.8289092,  0.       ,\n",
       "         3.839189 ],\n",
       "       [36.154446 , 32.45672  , 33.403862 , ...,  6.7096343,  3.839189 ,\n",
       "         0.       ]], dtype=float32)"
      ]
     },
     "execution_count": 35,
     "metadata": {},
     "output_type": "execute_result"
    }
   ],
   "source": [
    "dcalphas[0]"
   ]
  },
  {
   "cell_type": "code",
   "execution_count": null,
   "metadata": {},
   "outputs": [],
   "source": []
  },
  {
   "cell_type": "code",
   "execution_count": null,
   "metadata": {},
   "outputs": [],
   "source": []
  },
  {
   "cell_type": "code",
   "execution_count": 0,
   "metadata": {
    "colab": {},
    "colab_type": "code",
    "id": "bce-ckiWXXP0"
   },
   "outputs": [],
   "source": [
    "#data2csv.py\n",
    "\n",
    "# load protein names\n",
    "testfile = \"TEST_CSV_PATH\"\n",
    "test_input = pd.read_csv(testfile, header=None)\n",
    "protein_names = np.array(test_input.iloc[:,1])\n",
    "protein_len = np.array(test_input.iloc[:,2])\n",
    "\n",
    "# concatenate all output to one-dimensional\n",
    "all_data = []\n",
    "all_names = []\n",
    "for i, pname in enumerate(protein_names):\n",
    "    dist_flat = dist[i].ravel()\n",
    "    array = np.concatenate([dist_flat, psi[i], phi[i]])\n",
    "    all_data.append(array)\n",
    "\n",
    "    length = protein_len[i]\n",
    "    dist_names = [\"{}_d_{}_{}\".format(pname, i + 1, j + 1) for i in range(length) for\n",
    "            j in range(length)]\n",
    "\n",
    "    psi_names = [\"{}_psi_{}\".format(pname, i + 1) for i in range(length)]\n",
    "    phi_names = [\"{}_phi_{}\".format(pname, i + 1) for i in range(length)]\n",
    "    row_names = np.array(dist_names + psi_names + phi_names)\n",
    "    all_names.append(row_names)\n",
    "\n",
    "all_data = np.concatenate(all_data)\n",
    "all_names = np.concatenate(all_names)\n",
    "output = {\"Id\": all_names, \"Predicted\": all_data}\n",
    "output = pd.DataFrame(output)\n",
    "output.to_csv(\"SAVE_PATH\", index=False)"
   ]
  },
  {
   "cell_type": "code",
   "execution_count": null,
   "metadata": {},
   "outputs": [],
   "source": []
  },
  {
   "cell_type": "code",
   "execution_count": null,
   "metadata": {},
   "outputs": [],
   "source": []
  }
 ],
 "metadata": {
  "accelerator": "GPU",
  "colab": {
   "name": "HW2.ipynb",
   "provenance": [],
   "version": "0.3.2"
  },
  "kernelspec": {
   "display_name": "Python 3",
   "language": "python",
   "name": "python3"
  },
  "language_info": {
   "codemirror_mode": {
    "name": "ipython",
    "version": 3
   },
   "file_extension": ".py",
   "mimetype": "text/x-python",
   "name": "python",
   "nbconvert_exporter": "python",
   "pygments_lexer": "ipython3",
   "version": "3.7.0"
  }
 },
 "nbformat": 4,
 "nbformat_minor": 1
}
