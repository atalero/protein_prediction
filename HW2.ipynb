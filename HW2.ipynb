{
 "cells": [
  {
   "cell_type": "code",
   "execution_count": 2,
   "metadata": {
    "colab": {},
    "colab_type": "code",
    "id": "KXJJLi92WjKg"
   },
   "outputs": [],
   "source": [
    "import pickle\n",
    "import pandas as pd\n",
    "import numpy as np"
   ]
  },
  {
   "cell_type": "code",
   "execution_count": 3,
   "metadata": {
    "colab": {},
    "colab_type": "code",
    "id": "FbBzqDfctNsv"
   },
   "outputs": [],
   "source": [
    "import tensorflow as tf"
   ]
  },
  {
   "cell_type": "code",
   "execution_count": 4,
   "metadata": {
    "colab": {},
    "colab_type": "code",
    "id": "IiGUOTJg0Qmn"
   },
   "outputs": [
    {
     "name": "stderr",
     "output_type": "stream",
     "text": [
      "Using TensorFlow backend.\n"
     ]
    }
   ],
   "source": [
    "from tensorflow import keras\n",
    "from keras.models import Sequential\n",
    "from keras.layers import Dense, Conv2D, MaxPooling2D, Flatten, Dropout"
   ]
  },
  {
   "cell_type": "markdown",
   "metadata": {
    "colab_type": "text",
    "id": "vLculauAXw3T"
   },
   "source": [
    "There are multiple ways of loading data depending on where you load it from. Just run the relevant code block below (or add your own)"
   ]
  },
  {
   "cell_type": "markdown",
   "metadata": {},
   "source": [
    "Note: I am not sure about  order of psi and phi. \n",
    "index => 0,1,2,3,...\n",
    "pdb => unique name of protein\n",
    "pdb_aa => amino acid sequence over 21 chars\n",
    "q8 => sequence over eight chars\n",
    "dist_matrix =>  ouput 1\n",
    "\n",
    "FOR PART II\n",
    "outputs are psi and phi"
   ]
  },
  {
   "cell_type": "code",
   "execution_count": 16,
   "metadata": {},
   "outputs": [],
   "source": [
    "def load_pickle(datafile):\n",
    "    # load train data for a specific fold\n",
    "    with open(datafile, 'rb') as f:\n",
    "        data =  pickle.load(f)\n",
    "\n",
    "        \n",
    "    return data"
   ]
  },
  {
   "cell_type": "code",
   "execution_count": 17,
   "metadata": {
    "colab": {},
    "colab_type": "code",
    "id": "bce-ckiWXXP0"
   },
   "outputs": [],
   "source": [
    "def produce_test_output(testfile, save_path):\n",
    "    test_input = pd.read_csv(testfile, header=None)\n",
    "    protein_names = np.array(test_input.iloc[:,1])\n",
    "    protein_len = np.array(test_input.iloc[:,2])\n",
    "\n",
    "    # concatenate all output to one-dimensional\n",
    "    all_data = []\n",
    "    all_names = []\n",
    "    for i, pname in enumerate(protein_names):\n",
    "        dist_flat = dist[i].ravel()\n",
    "        array = np.concatenate([dist_flat, psi[i], phi[i]])\n",
    "        all_data.append(array)\n",
    "\n",
    "        length = protein_len[i]\n",
    "        dist_names = [\"{}_d_{}_{}\".format(pname, i + 1, j + 1) for i in range(length) for\n",
    "                j in range(length)]\n",
    "\n",
    "        psi_names = [\"{}_psi_{}\".format(pname, i + 1) for i in range(length)]\n",
    "        phi_names = [\"{}_phi_{}\".format(pname, i + 1) for i in range(length)]\n",
    "        row_names = np.array(dist_names + psi_names + phi_names)\n",
    "        all_names.append(row_names)\n",
    "\n",
    "    all_data = np.concatenate(all_data)\n",
    "    all_names = np.concatenate(all_names)\n",
    "    output = {\"Id\": all_names, \"Predicted\": all_data}\n",
    "    output = pd.DataFrame(output)\n",
    "    output.to_csv(save_path, index=False)"
   ]
  },
  {
   "cell_type": "code",
   "execution_count": 60,
   "metadata": {},
   "outputs": [],
   "source": [
    "indices, pdbs, length_aas, pdb_aas, q8s, dcalphas, psis, phis, msas = load_pickle(\"../data/train_fold_3.pkl\")"
   ]
  },
  {
   "cell_type": "code",
   "execution_count": 56,
   "metadata": {},
   "outputs": [],
   "source": [
    "#get the max length of some input sequence\n",
    "max_length = max(length_aas)"
   ]
  },
  {
   "cell_type": "markdown",
   "metadata": {},
   "source": [
    "Data Preprocessing"
   ]
  },
  {
   "cell_type": "code",
   "execution_count": 71,
   "metadata": {},
   "outputs": [],
   "source": [
    "from keras.preprocessing import sequence"
   ]
  },
  {
   "cell_type": "code",
   "execution_count": 72,
   "metadata": {},
   "outputs": [],
   "source": [
    "from sklearn.preprocessing import OneHotEncoder"
   ]
  },
  {
   "cell_type": "code",
   "execution_count": 110,
   "metadata": {},
   "outputs": [],
   "source": [
    "#find all amino acids\n",
    "a = set(pdb_aas[0])\n",
    "for i in range(len(pdb_aas)):\n",
    "    a = a.union(pdb_aas[i])"
   ]
  },
  {
   "cell_type": "code",
   "execution_count": 111,
   "metadata": {},
   "outputs": [],
   "source": [
    "#adding U and O from the set based on wikipedia article (I cannot find 21st amino acid) \n",
    "a.add('U')\n",
    "a.add('O')\n",
    "#length of a is 22"
   ]
  },
  {
   "cell_type": "code",
   "execution_count": 115,
   "metadata": {},
   "outputs": [],
   "source": [
    "from keras.preprocessing.text import one_hot\n",
    "from keras.preprocessing.text import text_to_word_sequence"
   ]
  },
  {
   "cell_type": "code",
   "execution_count": 125,
   "metadata": {},
   "outputs": [],
   "source": [
    "words = a"
   ]
  },
  {
   "cell_type": "code",
   "execution_count": 126,
   "metadata": {},
   "outputs": [],
   "source": [
    "vocab_size = len(words)"
   ]
  },
  {
   "cell_type": "code",
   "execution_count": 128,
   "metadata": {},
   "outputs": [],
   "source": [
    "text = \" \".join(list(pdb_aas[2]))"
   ]
  },
  {
   "cell_type": "code",
   "execution_count": 130,
   "metadata": {},
   "outputs": [],
   "source": [
    "result = one_hot(text, round(vocab_size))"
   ]
  },
  {
   "cell_type": "code",
   "execution_count": 134,
   "metadata": {},
   "outputs": [
    {
     "ename": "NameError",
     "evalue": "name 'input_train' is not defined",
     "output_type": "error",
     "traceback": [
      "\u001b[0;31m---------------------------------------------------------------------------\u001b[0m",
      "\u001b[0;31mNameError\u001b[0m                                 Traceback (most recent call last)",
      "\u001b[0;32m<ipython-input-134-9d36f0bf131c>\u001b[0m in \u001b[0;36m<module>\u001b[0;34m\u001b[0m\n\u001b[0;32m----> 1\u001b[0;31m \u001b[0minput_train\u001b[0m \u001b[0;34m=\u001b[0m \u001b[0msequence\u001b[0m\u001b[0;34m.\u001b[0m\u001b[0mpad_sequences\u001b[0m\u001b[0;34m(\u001b[0m\u001b[0minput_train\u001b[0m\u001b[0;34m,\u001b[0m \u001b[0mmaxlen\u001b[0m\u001b[0;34m=\u001b[0m\u001b[0mmax_length\u001b[0m\u001b[0;34m)\u001b[0m\u001b[0;34m\u001b[0m\u001b[0m\n\u001b[0m",
      "\u001b[0;31mNameError\u001b[0m: name 'input_train' is not defined"
     ]
    }
   ],
   "source": [
    "input_train = sequence.pad_sequences(input_train, maxlen=max_length)"
   ]
  },
  {
   "cell_type": "code",
   "execution_count": 133,
   "metadata": {},
   "outputs": [
    {
     "data": {
      "text/plain": [
       "[21,\n",
       " 14,\n",
       " 14,\n",
       " 19,\n",
       " 17,\n",
       " 16,\n",
       " 17,\n",
       " 19,\n",
       " 19,\n",
       " 1,\n",
       " 16,\n",
       " 16,\n",
       " 8,\n",
       " 19,\n",
       " 16,\n",
       " 16,\n",
       " 20,\n",
       " 14,\n",
       " 16,\n",
       " 14,\n",
       " 15,\n",
       " 7,\n",
       " 4,\n",
       " 6,\n",
       " 16,\n",
       " 19,\n",
       " 10,\n",
       " 16,\n",
       " 19,\n",
       " 7,\n",
       " 4,\n",
       " 17,\n",
       " 17,\n",
       " 16,\n",
       " 16,\n",
       " 16,\n",
       " 8,\n",
       " 15,\n",
       " 16,\n",
       " 10,\n",
       " 16,\n",
       " 17,\n",
       " 17,\n",
       " 16,\n",
       " 16,\n",
       " 17,\n",
       " 17,\n",
       " 6,\n",
       " 16,\n",
       " 16,\n",
       " 6,\n",
       " 16,\n",
       " 14,\n",
       " 1,\n",
       " 21,\n",
       " 16,\n",
       " 19,\n",
       " 7,\n",
       " 16,\n",
       " 1,\n",
       " 8,\n",
       " 7,\n",
       " 14,\n",
       " 8,\n",
       " 14,\n",
       " 7,\n",
       " 21,\n",
       " 7,\n",
       " 6,\n",
       " 20,\n",
       " 15,\n",
       " 16,\n",
       " 17,\n",
       " 14,\n",
       " 6,\n",
       " 16,\n",
       " 4,\n",
       " 14,\n",
       " 15,\n",
       " 4,\n",
       " 1,\n",
       " 1,\n",
       " 15,\n",
       " 19,\n",
       " 19,\n",
       " 7,\n",
       " 4,\n",
       " 8,\n",
       " 7,\n",
       " 15,\n",
       " 14,\n",
       " 14,\n",
       " 17,\n",
       " 7,\n",
       " 8,\n",
       " 1,\n",
       " 6,\n",
       " 1,\n",
       " 1,\n",
       " 8,\n",
       " 16,\n",
       " 1,\n",
       " 4,\n",
       " 1,\n",
       " 7,\n",
       " 16,\n",
       " 17,\n",
       " 8]"
      ]
     },
     "execution_count": 133,
     "metadata": {},
     "output_type": "execute_result"
    }
   ],
   "source": [
    "result"
   ]
  },
  {
   "cell_type": "code",
   "execution_count": 132,
   "metadata": {},
   "outputs": [
    {
     "data": {
      "text/plain": [
       "'MAAGELEGGKPLSGLLNALAQDTFHGYPGITEELLRSQLYPEVPPEEFRPFLAKMRGILKSIASADMDFNQLEAFLTAQTKKQGGITSDQAAVISKFWKSHKTKIRES'"
      ]
     },
     "execution_count": 132,
     "metadata": {},
     "output_type": "execute_result"
    }
   ],
   "source": [
    "pdb_aas[2]"
   ]
  },
  {
   "cell_type": "code",
   "execution_count": null,
   "metadata": {},
   "outputs": [],
   "source": []
  },
  {
   "cell_type": "code",
   "execution_count": null,
   "metadata": {},
   "outputs": [],
   "source": []
  },
  {
   "cell_type": "code",
   "execution_count": null,
   "metadata": {},
   "outputs": [],
   "source": []
  },
  {
   "cell_type": "code",
   "execution_count": null,
   "metadata": {},
   "outputs": [],
   "source": []
  }
 ],
 "metadata": {
  "accelerator": "GPU",
  "colab": {
   "name": "HW2.ipynb",
   "provenance": [],
   "version": "0.3.2"
  },
  "kernelspec": {
   "display_name": "Python 3",
   "language": "python",
   "name": "python3"
  },
  "language_info": {
   "codemirror_mode": {
    "name": "ipython",
    "version": 3
   },
   "file_extension": ".py",
   "mimetype": "text/x-python",
   "name": "python",
   "nbconvert_exporter": "python",
   "pygments_lexer": "ipython3",
   "version": "3.7.0"
  }
 },
 "nbformat": 4,
 "nbformat_minor": 1
}
