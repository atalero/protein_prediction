{
 "cells": [
  {
   "cell_type": "code",
   "execution_count": 1,
   "metadata": {
    "colab": {},
    "colab_type": "code",
    "id": "KXJJLi92WjKg"
   },
   "outputs": [],
   "source": [
    "import pickle\n",
    "import pandas as pd\n",
    "import numpy as np"
   ]
  },
  {
   "cell_type": "code",
   "execution_count": 2,
   "metadata": {
    "colab": {},
    "colab_type": "code",
    "id": "FbBzqDfctNsv"
   },
   "outputs": [],
   "source": [
    "import tensorflow as tf"
   ]
  },
  {
   "cell_type": "code",
   "execution_count": 3,
   "metadata": {
    "colab": {},
    "colab_type": "code",
    "id": "IiGUOTJg0Qmn"
   },
   "outputs": [
    {
     "name": "stderr",
     "output_type": "stream",
     "text": [
      "Using TensorFlow backend.\n"
     ]
    }
   ],
   "source": [
    "from tensorflow import keras\n",
    "from keras.models import Sequential\n",
    "from keras.layers import Dense, Conv2D, MaxPooling2D, Flatten, Dropout"
   ]
  },
  {
   "cell_type": "markdown",
   "metadata": {
    "colab_type": "text",
    "id": "vLculauAXw3T"
   },
   "source": [
    "There are multiple ways of loading data depending on where you load it from. Just run the relevant code block below (or add your own)"
   ]
  },
  {
   "cell_type": "markdown",
   "metadata": {},
   "source": [
    "Note: I am not sure about  order of psi and phi. \n",
    "index => 0,1,2,3,...\n",
    "pdb => unique name of protein\n",
    "pdb_aa => amino acid sequence over 21 chars\n",
    "q8 => sequence over eight chars\n",
    "dist_matrix =>  ouput 1\n",
    "\n",
    "FOR PART II\n",
    "outputs are psi and phi"
   ]
  },
  {
   "cell_type": "code",
   "execution_count": 4,
   "metadata": {},
   "outputs": [],
   "source": [
    "def load_pickle(datafile):\n",
    "    # load train data for a specific fold\n",
    "    with open(datafile, 'rb') as f:\n",
    "        data =  pickle.load(f)\n",
    "    return data"
   ]
  },
  {
   "cell_type": "markdown",
   "metadata": {},
   "source": [
    "FINDING MAX_LENGTH OF ANY  GIVEN SEQUENCE => not necessary anymore"
   ]
  },
  {
   "cell_type": "code",
   "execution_count": 5,
   "metadata": {},
   "outputs": [
    {
     "data": {
      "text/plain": [
       "'\\n#find the maxlength sequence\\nmax_input_length = 0\\nfor i in range(1,10):\\n    indices, pdbs, length_aas, pdb_aas, q8s, dcalphas, psis, phis, msas = load_pickle(\"../data/train_fold_\"+str(i) +\".pkl\")\\n    if max(length_aas)>m:\\n        max_input_length = max(length_aas)\\n'"
      ]
     },
     "execution_count": 5,
     "metadata": {},
     "output_type": "execute_result"
    }
   ],
   "source": [
    "\"\"\"\n",
    "#find the maxlength sequence\n",
    "max_input_length = 0\n",
    "for i in range(1,10):\n",
    "    indices, pdbs, length_aas, pdb_aas, q8s, dcalphas, psis, phis, msas = load_pickle(\"../data/train_fold_\"+str(i) +\".pkl\")\n",
    "    if max(length_aas)>m:\n",
    "        max_input_length = max(length_aas)\n",
    "\"\"\""
   ]
  },
  {
   "cell_type": "markdown",
   "metadata": {},
   "source": [
    "Obtain the testing data"
   ]
  },
  {
   "cell_type": "code",
   "execution_count": 6,
   "metadata": {},
   "outputs": [],
   "source": [
    "#indices_t, pdbs_t, length_aas_t, pdb_aas_t, q8s_t, msas_t = load_pickle(\"../data/test.pkl\")"
   ]
  },
  {
   "cell_type": "markdown",
   "metadata": {},
   "source": [
    "Obtain Data for One Fold"
   ]
  },
  {
   "cell_type": "code",
   "execution_count": 5,
   "metadata": {},
   "outputs": [],
   "source": [
    "indices, pdbs, length_aas, pdb_aas, q8s, dcalphas, psis, phis, msas  = load_pickle(\"../data/train_fold_1.pkl\")"
   ]
  },
  {
   "cell_type": "code",
   "execution_count": 6,
   "metadata": {},
   "outputs": [],
   "source": [
    "from keras.preprocessing import sequence"
   ]
  },
  {
   "cell_type": "code",
   "execution_count": 7,
   "metadata": {
    "colab": {},
    "colab_type": "code",
    "id": "bce-ckiWXXP0"
   },
   "outputs": [],
   "source": [
    "#code to produce Kaggle output (provided in class)\n",
    "def produce_test_output(testfile, save_path):\n",
    "    test_input = pd.read_csv(testfile, header=None)\n",
    "    protein_names = np.array(test_input.iloc[:,1])\n",
    "    protein_len = np.array(test_input.iloc[:,2])\n",
    "\n",
    "    # concatenate all output to one-dimensional\n",
    "    all_data = []\n",
    "    all_names = []\n",
    "    for i, pname in enumerate(protein_names):\n",
    "        dist_flat = dist[i].ravel()\n",
    "        array = np.concatenate([dist_flat, psi[i], phi[i]])\n",
    "        all_data.append(array)\n",
    "\n",
    "        length = protein_len[i]\n",
    "        dist_names = [\"{}_d_{}_{}\".format(pname, i + 1, j + 1) for i in range(length) for\n",
    "                j in range(length)]\n",
    "\n",
    "        psi_names = [\"{}_psi_{}\".format(pname, i + 1) for i in range(length)]\n",
    "        phi_names = [\"{}_phi_{}\".format(pname, i + 1) for i in range(length)]\n",
    "        row_names = np.array(dist_names + psi_names + phi_names)\n",
    "        all_names.append(row_names)\n",
    "\n",
    "    all_data = np.concatenate(all_data)\n",
    "    all_names = np.concatenate(all_names)\n",
    "    output = {\"Id\": all_names, \"Predicted\": all_data}\n",
    "    output = pd.DataFrame(output)\n",
    "    output.to_csv(save_path, index=False)"
   ]
  },
  {
   "cell_type": "code",
   "execution_count": 8,
   "metadata": {},
   "outputs": [],
   "source": [
    "def produce_outputs(dcalphas, max_input_length):\n",
    "    outputs = []\n",
    "    masks = []\n",
    "    \n",
    "    for element in dcalphas:\n",
    "        extra_cols = max_input_length - element.shape[1]\n",
    "        extra_rows = max_input_length - element.shape[0]\n",
    "        \n",
    "        cols_zeros = np.zeros((element.shape[0], extra_cols))\n",
    "        rows_zeros = np.zeros((extra_rows, max_input_length))\n",
    "        \n",
    "        f_array = np.hstack((element, cols_zeros))\n",
    "        f_array = np.vstack((f_array, rows_zeros))\n",
    "        \n",
    "        outputs.append(f_array)\n",
    "        \n",
    "        masked = f_array.copy()\n",
    "        masked[masked> 0] = 1\n",
    "        masked[masked<= 0] = 0\n",
    "        \n",
    "        masks.append(masked)\n",
    "        \n",
    "    return outputs, masks"
   ]
  },
  {
   "cell_type": "code",
   "execution_count": 13,
   "metadata": {},
   "outputs": [],
   "source": [
    "sequence_length = 1664"
   ]
  },
  {
   "cell_type": "code",
   "execution_count": null,
   "metadata": {},
   "outputs": [],
   "source": [
    "outputs, masks = produce_outputs(dcalphas,sequence_length)"
   ]
  },
  {
   "cell_type": "code",
   "execution_count": 22,
   "metadata": {},
   "outputs": [
    {
     "data": {
      "text/plain": [
       "array([[0., 1., 1., ..., 0., 0., 0.],\n",
       "       [1., 0., 1., ..., 0., 0., 0.],\n",
       "       [1., 1., 0., ..., 0., 0., 0.],\n",
       "       ...,\n",
       "       [0., 0., 0., ..., 0., 0., 0.],\n",
       "       [0., 0., 0., ..., 0., 0., 0.],\n",
       "       [0., 0., 0., ..., 0., 0., 0.]])"
      ]
     },
     "execution_count": 22,
     "metadata": {},
     "output_type": "execute_result"
    }
   ],
   "source": [
    "masks[0]"
   ]
  },
  {
   "cell_type": "code",
   "execution_count": 13,
   "metadata": {},
   "outputs": [
    {
     "data": {
      "text/plain": [
       "array([[0.        , 3.79094315, 5.38360357, ..., 0.        , 0.        ,\n",
       "        0.        ],\n",
       "       [3.79094315, 0.        , 3.8241179 , ..., 0.        , 0.        ,\n",
       "        0.        ],\n",
       "       [5.38360357, 3.8241179 , 0.        , ..., 0.        , 0.        ,\n",
       "        0.        ],\n",
       "       ...,\n",
       "       [0.        , 0.        , 0.        , ..., 0.        , 0.        ,\n",
       "        0.        ],\n",
       "       [0.        , 0.        , 0.        , ..., 0.        , 0.        ,\n",
       "        0.        ],\n",
       "       [0.        , 0.        , 0.        , ..., 0.        , 0.        ,\n",
       "        0.        ]])"
      ]
     },
     "execution_count": 13,
     "metadata": {},
     "output_type": "execute_result"
    }
   ],
   "source": [
    "outputs[0]"
   ]
  },
  {
   "cell_type": "code",
   "execution_count": 9,
   "metadata": {},
   "outputs": [],
   "source": [
    "from keras.preprocessing.text import one_hot\n",
    "from keras.preprocessing.text import text_to_word_sequence"
   ]
  },
  {
   "cell_type": "code",
   "execution_count": 10,
   "metadata": {},
   "outputs": [],
   "source": [
    "from keras.utils import to_categorical"
   ]
  },
  {
   "cell_type": "code",
   "execution_count": 22,
   "metadata": {},
   "outputs": [],
   "source": [
    "from sklearn.preprocessing import OneHotEncoder"
   ]
  },
  {
   "cell_type": "code",
   "execution_count": null,
   "metadata": {},
   "outputs": [],
   "source": [
    " "
   ]
  },
  {
   "cell_type": "code",
   "execution_count": 59,
   "metadata": {},
   "outputs": [],
   "source": [
    "from keras.preprocessing.text import Tokenizer "
   ]
  },
  {
   "cell_type": "code",
   "execution_count": 61,
   "metadata": {},
   "outputs": [],
   "source": [
    "indexer = Tokenizer(lower=False, filters='')"
   ]
  },
  {
   "cell_type": "code",
   "execution_count": 63,
   "metadata": {},
   "outputs": [],
   "source": [
    "indexer.fit_on_texts(list('A,B,C,D'))"
   ]
  },
  {
   "cell_type": "code",
   "execution_count": 67,
   "metadata": {},
   "outputs": [],
   "source": [
    "sequences = indexer.texts_to_sequences('BCBA')"
   ]
  },
  {
   "cell_type": "code",
   "execution_count": 68,
   "metadata": {},
   "outputs": [
    {
     "data": {
      "text/plain": [
       "[[3], [4], [3], [2]]"
      ]
     },
     "execution_count": 68,
     "metadata": {},
     "output_type": "execute_result"
    }
   ],
   "source": [
    "sequences"
   ]
  },
  {
   "cell_type": "code",
   "execution_count": 75,
   "metadata": {},
   "outputs": [],
   "source": [
    "v = np.array(indexer.texts_to_sequences('BBBABB')).T"
   ]
  },
  {
   "cell_type": "code",
   "execution_count": 74,
   "metadata": {},
   "outputs": [
    {
     "data": {
      "text/plain": [
       "array([[0., 1., 0., 0.],\n",
       "       [1., 0., 0., 0.],\n",
       "       [0., 0., 0., 1.]])"
      ]
     },
     "execution_count": 74,
     "metadata": {},
     "output_type": "execute_result"
    }
   ],
   "source": [
    "values = [1, 0, 3]\n",
    "n_values = np.max(values) + 1\n",
    "np.eye(n_values)[values]"
   ]
  },
  {
   "cell_type": "code",
   "execution_count": 76,
   "metadata": {},
   "outputs": [
    {
     "data": {
      "text/plain": [
       "array([[3, 3, 3, 2, 3, 3]])"
      ]
     },
     "execution_count": 76,
     "metadata": {},
     "output_type": "execute_result"
    }
   ],
   "source": [
    "v"
   ]
  },
  {
   "cell_type": "code",
   "execution_count": 77,
   "metadata": {},
   "outputs": [],
   "source": [
    "n_values = 4"
   ]
  },
  {
   "cell_type": "code",
   "execution_count": 78,
   "metadata": {},
   "outputs": [
    {
     "data": {
      "text/plain": [
       "array([[[0., 0., 0., 1.],\n",
       "        [0., 0., 0., 1.],\n",
       "        [0., 0., 0., 1.],\n",
       "        [0., 0., 1., 0.],\n",
       "        [0., 0., 0., 1.],\n",
       "        [0., 0., 0., 1.]]])"
      ]
     },
     "execution_count": 78,
     "metadata": {},
     "output_type": "execute_result"
    }
   ],
   "source": [
    "np.eye(n_values)[v]"
   ]
  },
  {
   "cell_type": "code",
   "execution_count": 79,
   "metadata": {},
   "outputs": [
    {
     "data": {
      "text/plain": [
       "array([[3, 3, 3, 2, 3, 3]])"
      ]
     },
     "execution_count": 79,
     "metadata": {},
     "output_type": "execute_result"
    }
   ],
   "source": [
    "v"
   ]
  },
  {
   "cell_type": "code",
   "execution_count": 14,
   "metadata": {},
   "outputs": [],
   "source": [
    "indexer = Tokenizer(lower=False, filters='')\n",
    "\n",
    "def produce_inputs(pdb_aas, q8s, msas, sequence_length):\n",
    "    aa_list = 'ACDEFGHIKLMNPQRSTVWXY'\n",
    "    q8_list = 'GHITEBS-'\n",
    "    \n",
    "    inputs = []\n",
    "    \n",
    "    for aa, q8, msa in zip(pdb_aas, q8s, msas):\n",
    "        text_aa = \" \".join(list(aa))\n",
    "        text_q8 = \" \".join(list(q8))\n",
    "        \n",
    "        msa = np.array(msa).astype(np.float)\n",
    "        \n",
    "        result_aa = one_hot(text_aa,  len(aa_list), filters='')\n",
    "        result_q8 = one_hot(text_q8, len(q8_list), filters='')\n",
    "        \n",
    "        result_aa = np.array(result_aa)\n",
    "        result_q8 = np.array(result_q8)\n",
    "        \n",
    "        encoded_aa = to_categorical(result_aa)\n",
    "        encoded_q8 = to_categorical(result_q8)\n",
    "        \n",
    "        encoded_aa = encoded_aa.T\n",
    "        encoded_q8 = encoded_q8.T\n",
    "        \n",
    "        input_train = np.vstack((encoded_aa, encoded_q8))\n",
    "        input_train = np.vstack((input_train, msa))\n",
    "        \n",
    "        #pad the sequence\n",
    "        input_train = sequence.pad_sequences(input_train, maxlen=sequence_length, padding = \"post\")\n",
    "        \n",
    "        inputs.append(input_train) #current shape is 50, 1664\n",
    "        \n",
    "    return inputs\n",
    "        "
   ]
  },
  {
   "cell_type": "code",
   "execution_count": 15,
   "metadata": {},
   "outputs": [],
   "source": [
    "inputs = produce_inputs(pdb_aas, q8s, msas, sequence_length)"
   ]
  },
  {
   "cell_type": "code",
   "execution_count": 21,
   "metadata": {},
   "outputs": [
    {
     "name": "stdout",
     "output_type": "stream",
     "text": [
      "(49, 1664)\n",
      "(49, 1664)\n",
      "(47, 1664)\n",
      "(49, 1664)\n",
      "(49, 1664)\n",
      "(45, 1664)\n",
      "(49, 1664)\n",
      "(49, 1664)\n",
      "(47, 1664)\n",
      "(47, 1664)\n",
      "(49, 1664)\n",
      "(45, 1664)\n",
      "(47, 1664)\n",
      "(49, 1664)\n",
      "(49, 1664)\n",
      "(45, 1664)\n",
      "(49, 1664)\n",
      "(48, 1664)\n",
      "(49, 1664)\n",
      "(47, 1664)\n",
      "(47, 1664)\n",
      "(49, 1664)\n",
      "(49, 1664)\n",
      "(49, 1664)\n",
      "(49, 1664)\n",
      "(47, 1664)\n",
      "(49, 1664)\n",
      "(49, 1664)\n",
      "(49, 1664)\n",
      "(49, 1664)\n",
      "(47, 1664)\n",
      "(47, 1664)\n",
      "(49, 1664)\n",
      "(49, 1664)\n",
      "(49, 1664)\n",
      "(45, 1664)\n",
      "(47, 1664)\n",
      "(47, 1664)\n",
      "(49, 1664)\n",
      "(49, 1664)\n",
      "(49, 1664)\n",
      "(49, 1664)\n",
      "(45, 1664)\n",
      "(49, 1664)\n",
      "(49, 1664)\n",
      "(45, 1664)\n",
      "(49, 1664)\n",
      "(49, 1664)\n",
      "(45, 1664)\n",
      "(49, 1664)\n",
      "(45, 1664)\n",
      "(49, 1664)\n",
      "(49, 1664)\n",
      "(47, 1664)\n",
      "(49, 1664)\n",
      "(49, 1664)\n",
      "(49, 1664)\n",
      "(49, 1664)\n",
      "(49, 1664)\n",
      "(49, 1664)\n",
      "(49, 1664)\n",
      "(49, 1664)\n",
      "(49, 1664)\n",
      "(47, 1664)\n",
      "(49, 1664)\n",
      "(47, 1664)\n",
      "(49, 1664)\n",
      "(47, 1664)\n",
      "(47, 1664)\n",
      "(49, 1664)\n",
      "(49, 1664)\n",
      "(47, 1664)\n",
      "(47, 1664)\n",
      "(49, 1664)\n",
      "(49, 1664)\n",
      "(44, 1664)\n",
      "(47, 1664)\n",
      "(49, 1664)\n",
      "(49, 1664)\n",
      "(49, 1664)\n",
      "(49, 1664)\n",
      "(49, 1664)\n",
      "(49, 1664)\n",
      "(49, 1664)\n",
      "(49, 1664)\n",
      "(49, 1664)\n",
      "(49, 1664)\n",
      "(47, 1664)\n",
      "(47, 1664)\n",
      "(49, 1664)\n",
      "(49, 1664)\n",
      "(45, 1664)\n",
      "(49, 1664)\n",
      "(49, 1664)\n",
      "(49, 1664)\n",
      "(49, 1664)\n",
      "(47, 1664)\n",
      "(49, 1664)\n",
      "(49, 1664)\n",
      "(47, 1664)\n",
      "(47, 1664)\n",
      "(49, 1664)\n",
      "(49, 1664)\n",
      "(49, 1664)\n",
      "(49, 1664)\n",
      "(47, 1664)\n",
      "(49, 1664)\n",
      "(47, 1664)\n",
      "(45, 1664)\n",
      "(49, 1664)\n",
      "(47, 1664)\n",
      "(47, 1664)\n",
      "(49, 1664)\n",
      "(49, 1664)\n",
      "(45, 1664)\n",
      "(47, 1664)\n",
      "(49, 1664)\n",
      "(49, 1664)\n",
      "(45, 1664)\n",
      "(49, 1664)\n",
      "(47, 1664)\n",
      "(49, 1664)\n",
      "(49, 1664)\n",
      "(49, 1664)\n",
      "(49, 1664)\n",
      "(47, 1664)\n",
      "(49, 1664)\n",
      "(49, 1664)\n",
      "(49, 1664)\n",
      "(49, 1664)\n",
      "(45, 1664)\n",
      "(45, 1664)\n",
      "(47, 1664)\n",
      "(49, 1664)\n",
      "(49, 1664)\n",
      "(47, 1664)\n",
      "(49, 1664)\n",
      "(45, 1664)\n",
      "(49, 1664)\n",
      "(45, 1664)\n",
      "(49, 1664)\n",
      "(49, 1664)\n",
      "(49, 1664)\n",
      "(49, 1664)\n",
      "(49, 1664)\n",
      "(45, 1664)\n",
      "(49, 1664)\n",
      "(49, 1664)\n",
      "(49, 1664)\n",
      "(45, 1664)\n",
      "(47, 1664)\n",
      "(44, 1664)\n",
      "(45, 1664)\n",
      "(49, 1664)\n",
      "(49, 1664)\n",
      "(49, 1664)\n",
      "(47, 1664)\n",
      "(49, 1664)\n",
      "(49, 1664)\n",
      "(49, 1664)\n",
      "(49, 1664)\n",
      "(45, 1664)\n",
      "(47, 1664)\n",
      "(49, 1664)\n",
      "(45, 1664)\n",
      "(49, 1664)\n",
      "(49, 1664)\n",
      "(49, 1664)\n",
      "(49, 1664)\n",
      "(49, 1664)\n",
      "(49, 1664)\n",
      "(49, 1664)\n",
      "(45, 1664)\n",
      "(46, 1664)\n",
      "(49, 1664)\n",
      "(49, 1664)\n",
      "(47, 1664)\n",
      "(49, 1664)\n",
      "(45, 1664)\n",
      "(49, 1664)\n",
      "(49, 1664)\n",
      "(49, 1664)\n",
      "(45, 1664)\n",
      "(45, 1664)\n",
      "(47, 1664)\n",
      "(47, 1664)\n",
      "(47, 1664)\n",
      "(47, 1664)\n",
      "(47, 1664)\n",
      "(49, 1664)\n",
      "(45, 1664)\n",
      "(45, 1664)\n",
      "(49, 1664)\n",
      "(49, 1664)\n",
      "(47, 1664)\n",
      "(49, 1664)\n",
      "(47, 1664)\n",
      "(49, 1664)\n",
      "(49, 1664)\n",
      "(45, 1664)\n",
      "(47, 1664)\n",
      "(49, 1664)\n",
      "(47, 1664)\n",
      "(47, 1664)\n",
      "(49, 1664)\n",
      "(47, 1664)\n",
      "(49, 1664)\n",
      "(49, 1664)\n",
      "(45, 1664)\n",
      "(49, 1664)\n",
      "(45, 1664)\n",
      "(49, 1664)\n",
      "(47, 1664)\n",
      "(49, 1664)\n",
      "(49, 1664)\n",
      "(49, 1664)\n",
      "(47, 1664)\n",
      "(49, 1664)\n",
      "(49, 1664)\n",
      "(49, 1664)\n",
      "(49, 1664)\n",
      "(49, 1664)\n",
      "(49, 1664)\n",
      "(49, 1664)\n",
      "(49, 1664)\n",
      "(49, 1664)\n",
      "(47, 1664)\n",
      "(49, 1664)\n",
      "(49, 1664)\n",
      "(49, 1664)\n",
      "(45, 1664)\n",
      "(49, 1664)\n",
      "(49, 1664)\n",
      "(47, 1664)\n",
      "(47, 1664)\n",
      "(49, 1664)\n",
      "(49, 1664)\n",
      "(49, 1664)\n",
      "(49, 1664)\n",
      "(47, 1664)\n",
      "(49, 1664)\n",
      "(49, 1664)\n",
      "(47, 1664)\n",
      "(49, 1664)\n",
      "(49, 1664)\n",
      "(49, 1664)\n",
      "(47, 1664)\n",
      "(48, 1664)\n",
      "(49, 1664)\n",
      "(49, 1664)\n",
      "(47, 1664)\n",
      "(49, 1664)\n",
      "(45, 1664)\n",
      "(49, 1664)\n",
      "(49, 1664)\n",
      "(47, 1664)\n",
      "(49, 1664)\n",
      "(49, 1664)\n",
      "(49, 1664)\n",
      "(45, 1664)\n",
      "(49, 1664)\n",
      "(49, 1664)\n",
      "(49, 1664)\n",
      "(47, 1664)\n",
      "(45, 1664)\n",
      "(49, 1664)\n",
      "(49, 1664)\n",
      "(49, 1664)\n",
      "(47, 1664)\n",
      "(49, 1664)\n",
      "(49, 1664)\n",
      "(45, 1664)\n",
      "(49, 1664)\n",
      "(49, 1664)\n",
      "(49, 1664)\n",
      "(49, 1664)\n",
      "(47, 1664)\n",
      "(49, 1664)\n",
      "(45, 1664)\n",
      "(49, 1664)\n",
      "(49, 1664)\n",
      "(47, 1664)\n",
      "(49, 1664)\n",
      "(49, 1664)\n",
      "(49, 1664)\n",
      "(45, 1664)\n",
      "(49, 1664)\n",
      "(49, 1664)\n",
      "(49, 1664)\n",
      "(45, 1664)\n",
      "(49, 1664)\n",
      "(49, 1664)\n",
      "(45, 1664)\n",
      "(49, 1664)\n",
      "(47, 1664)\n",
      "(47, 1664)\n",
      "(49, 1664)\n",
      "(49, 1664)\n",
      "(49, 1664)\n",
      "(45, 1664)\n",
      "(45, 1664)\n",
      "(49, 1664)\n",
      "(45, 1664)\n",
      "(45, 1664)\n",
      "(47, 1664)\n",
      "(47, 1664)\n",
      "(45, 1664)\n",
      "(49, 1664)\n",
      "(49, 1664)\n",
      "(47, 1664)\n",
      "(49, 1664)\n",
      "(49, 1664)\n",
      "(49, 1664)\n",
      "(49, 1664)\n",
      "(49, 1664)\n",
      "(49, 1664)\n",
      "(47, 1664)\n",
      "(49, 1664)\n",
      "(49, 1664)\n",
      "(47, 1664)\n",
      "(49, 1664)\n",
      "(49, 1664)\n",
      "(49, 1664)\n",
      "(49, 1664)\n",
      "(47, 1664)\n",
      "(49, 1664)\n",
      "(49, 1664)\n",
      "(45, 1664)\n",
      "(49, 1664)\n",
      "(49, 1664)\n",
      "(47, 1664)\n",
      "(49, 1664)\n",
      "(49, 1664)\n",
      "(49, 1664)\n",
      "(47, 1664)\n"
     ]
    }
   ],
   "source": [
    "for element in inputs:\n",
    "    print(element.shape)"
   ]
  },
  {
   "cell_type": "code",
   "execution_count": 61,
   "metadata": {},
   "outputs": [],
   "source": [
    "input_length = 1664\n",
    "num_features = 50"
   ]
  },
  {
   "cell_type": "code",
   "execution_count": null,
   "metadata": {},
   "outputs": [],
   "source": [
    "#Building the model and training"
   ]
  },
  {
   "cell_type": "code",
   "execution_count": 27,
   "metadata": {},
   "outputs": [],
   "source": [
    "from keras.layers import Bidirectional"
   ]
  },
  {
   "cell_type": "code",
   "execution_count": 28,
   "metadata": {},
   "outputs": [],
   "source": [
    "from keras.layers import LSTM"
   ]
  },
  {
   "cell_type": "code",
   "execution_count": 29,
   "metadata": {},
   "outputs": [],
   "source": [
    "from keras.layers import RNN"
   ]
  },
  {
   "cell_type": "code",
   "execution_count": 30,
   "metadata": {},
   "outputs": [],
   "source": [
    "from keras.layers import InputLayer"
   ]
  },
  {
   "cell_type": "code",
   "execution_count": 31,
   "metadata": {},
   "outputs": [],
   "source": [
    "from keras.layers import Input, Dense, Lambda, Reshape\n",
    "from keras.models import Model\n",
    "from keras.layers.merge import Multiply\n",
    "from keras.backend import greater"
   ]
  },
  {
   "cell_type": "code",
   "execution_count": 32,
   "metadata": {},
   "outputs": [],
   "source": [
    "from keras.backend import zeros"
   ]
  },
  {
   "cell_type": "code",
   "execution_count": 129,
   "metadata": {},
   "outputs": [],
   "source": [
    "def g(inputs):\n",
    "    ones_outputs, m = inputs\n",
    "    return greater(ones_outputs , m)"
   ]
  },
  {
   "cell_type": "code",
   "execution_count": 142,
   "metadata": {},
   "outputs": [],
   "source": [
    "def m(inputs):\n",
    "    return Multiply()(inputs)"
   ]
  },
  {
   "cell_type": "code",
   "execution_count": 147,
   "metadata": {},
   "outputs": [],
   "source": [
    "# This returns a tensor\n",
    "\n",
    "ones_inputs = Input(shape=(1664, 1664)) \n",
    "main_input = Input(shape=(50, 1664), name='main_input')\n",
    "\n",
    "#zero_mask = Input(shape=(1664, 1664))\n",
    "#mask = Lambda(mean)([ones_outputs , m])\n",
    "\n",
    "l = Bidirectional(LSTM(10, return_sequences=False))(main_input)\n",
    "l = Dense(128, activation='relu')(l)\n",
    "l = Dense(1664**2, activation='relu')(l)\n",
    "l = Reshape((1664, 1664))(l)\n",
    "l = Lambda(m)([l,ones_inputs])"
   ]
  },
  {
   "cell_type": "code",
   "execution_count": 149,
   "metadata": {},
   "outputs": [],
   "source": [
    "# the Input layer and three Dense layers\n",
    "model = Model(inputs=[main_input,ones_inputs], outputs=[l])"
   ]
  },
  {
   "cell_type": "code",
   "execution_count": 150,
   "metadata": {},
   "outputs": [],
   "source": [
    "model.compile(optimizer='rmsprop', loss='binary_crossentropy', metrics=['accuracy'])"
   ]
  },
  {
   "cell_type": "code",
   "execution_count": null,
   "metadata": {},
   "outputs": [],
   "source": [
    "model.fit(input_train, y_train, validation_data=(input_test, y_test), batch_size=128, epochs=5)"
   ]
  },
  {
   "cell_type": "code",
   "execution_count": null,
   "metadata": {},
   "outputs": [],
   "source": []
  },
  {
   "cell_type": "code",
   "execution_count": null,
   "metadata": {},
   "outputs": [],
   "source": []
  },
  {
   "cell_type": "code",
   "execution_count": null,
   "metadata": {},
   "outputs": [],
   "source": []
  },
  {
   "cell_type": "markdown",
   "metadata": {},
   "source": [
    "For Reference"
   ]
  },
  {
   "cell_type": "code",
   "execution_count": 86,
   "metadata": {},
   "outputs": [
    {
     "name": "stdout",
     "output_type": "stream",
     "text": [
      "_________________________________________________________________\n",
      "Layer (type)                 Output Shape              Param #   \n",
      "=================================================================\n",
      "bidirectional_23 (Bidirectio (None, 20)                134000    \n",
      "_________________________________________________________________\n",
      "dense_46 (Dense)             (None, 128)               2688      \n",
      "_________________________________________________________________\n",
      "dense_47 (Dense)             (None, 2768896)           357187584 \n",
      "_________________________________________________________________\n",
      "reshape_19 (Reshape)         (None, 1664, 1664)        0         \n",
      "=================================================================\n",
      "Total params: 357,324,272\n",
      "Trainable params: 357,324,272\n",
      "Non-trainable params: 0\n",
      "_________________________________________________________________\n"
     ]
    }
   ],
   "source": [
    "model = Sequential()\n",
    "\n",
    "model.add(Bidirectional(LSTM(10, return_sequences=False),input_shape=(50, 1664)))\n",
    "\n",
    "model.add(Dense(128, activation='relu'))\n",
    "model.add(Dense(1664**2, activation='relu'))\n",
    "model.add(Reshape((1664, 1664)))\n",
    "\n",
    "# Print summary\n",
    "model.summary()"
   ]
  }
 ],
 "metadata": {
  "accelerator": "GPU",
  "colab": {
   "name": "HW2.ipynb",
   "provenance": [],
   "version": "0.3.2"
  },
  "kernelspec": {
   "display_name": "Python 3",
   "language": "python",
   "name": "python3"
  },
  "language_info": {
   "codemirror_mode": {
    "name": "ipython",
    "version": 3
   },
   "file_extension": ".py",
   "mimetype": "text/x-python",
   "name": "python",
   "nbconvert_exporter": "python",
   "pygments_lexer": "ipython3",
   "version": "3.7.0"
  }
 },
 "nbformat": 4,
 "nbformat_minor": 1
}
