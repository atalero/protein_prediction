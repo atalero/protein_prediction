{
 "cells": [
  {
   "cell_type": "code",
   "execution_count": 1,
   "metadata": {
    "colab": {},
    "colab_type": "code",
    "id": "KXJJLi92WjKg"
   },
   "outputs": [],
   "source": [
    "import pickle\n",
    "import pandas as pd\n",
    "import numpy as np"
   ]
  },
  {
   "cell_type": "code",
   "execution_count": 2,
   "metadata": {
    "colab": {},
    "colab_type": "code",
    "id": "FbBzqDfctNsv"
   },
   "outputs": [],
   "source": [
    "import tensorflow as tf"
   ]
  },
  {
   "cell_type": "code",
   "execution_count": 3,
   "metadata": {
    "colab": {},
    "colab_type": "code",
    "id": "IiGUOTJg0Qmn"
   },
   "outputs": [
    {
     "name": "stderr",
     "output_type": "stream",
     "text": [
      "Using TensorFlow backend.\n"
     ]
    }
   ],
   "source": [
    "from tensorflow import keras\n",
    "from keras.models import Sequential\n",
    "from keras.layers import Dense, Conv2D, MaxPooling2D, Flatten, Dropout"
   ]
  },
  {
   "cell_type": "markdown",
   "metadata": {
    "colab_type": "text",
    "id": "vLculauAXw3T"
   },
   "source": [
    "There are multiple ways of loading data depending on where you load it from. Just run the relevant code block below (or add your own)"
   ]
  },
  {
   "cell_type": "markdown",
   "metadata": {},
   "source": [
    "Note: I am not sure about  order of psi and phi. \n",
    "index => 0,1,2,3,...\n",
    "pdb => unique name of protein\n",
    "pdb_aa => amino acid sequence over 21 chars\n",
    "q8 => sequence over eight chars\n",
    "dist_matrix =>  ouput 1\n",
    "\n",
    "FOR PART II\n",
    "outputs are psi and phi"
   ]
  },
  {
   "cell_type": "code",
   "execution_count": 4,
   "metadata": {},
   "outputs": [],
   "source": [
    "def load_pickle(datafile):\n",
    "    # load train data for a specific fold\n",
    "    with open(datafile, 'rb') as f:\n",
    "        data =  pickle.load(f)\n",
    "\n",
    "        \n",
    "    return data"
   ]
  },
  {
   "cell_type": "code",
   "execution_count": 5,
   "metadata": {},
   "outputs": [],
   "source": [
    "indices, pdbs, length_aas, pdb_aas, q8s, dcalphas, psis, phis, msas = load_pickle(\"../data/train_fold_3.pkl\")"
   ]
  },
  {
   "cell_type": "code",
   "execution_count": 20,
   "metadata": {
    "scrolled": true
   },
   "outputs": [
    {
     "data": {
      "text/plain": [
       "108"
      ]
     },
     "execution_count": 20,
     "metadata": {},
     "output_type": "execute_result"
    }
   ],
   "source": [
    "length_aas[2]"
   ]
  },
  {
   "cell_type": "code",
   "execution_count": 8,
   "metadata": {},
   "outputs": [
    {
     "data": {
      "text/plain": [
       "(162, 162)"
      ]
     },
     "execution_count": 8,
     "metadata": {},
     "output_type": "execute_result"
    }
   ],
   "source": [
    "dcalphas[0].shape"
   ]
  },
  {
   "cell_type": "code",
   "execution_count": 56,
   "metadata": {},
   "outputs": [],
   "source": [
    "#get the max length of some input sequence\n",
    "max_length = max(length_aas)"
   ]
  },
  {
   "cell_type": "markdown",
   "metadata": {},
   "source": [
    "Data Preprocessing"
   ]
  },
  {
   "cell_type": "code",
   "execution_count": 10,
   "metadata": {},
   "outputs": [],
   "source": [
    "from keras.preprocessing import sequence"
   ]
  },
  {
   "cell_type": "code",
   "execution_count": 11,
   "metadata": {},
   "outputs": [],
   "source": [
    "from sklearn.preprocessing import OneHotEncoder"
   ]
  },
  {
   "cell_type": "code",
   "execution_count": 12,
   "metadata": {},
   "outputs": [],
   "source": [
    "aa_list = list('ACEDGFIHKMLNQPSRTWVYX') + ['NoSeq'] #CHECK THIS\n",
    "q8_list      = list('LBEGIHST') + ['NoSeq']"
   ]
  },
  {
   "cell_type": "code",
   "execution_count": 13,
   "metadata": {},
   "outputs": [],
   "source": [
    "from keras.preprocessing.text import one_hot\n",
    "from keras.preprocessing.text import text_to_word_sequence"
   ]
  },
  {
   "cell_type": "code",
   "execution_count": 15,
   "metadata": {},
   "outputs": [],
   "source": [
    "vocab_size = len(aa_list)"
   ]
  },
  {
   "cell_type": "code",
   "execution_count": 16,
   "metadata": {},
   "outputs": [],
   "source": [
    "text = \" \".join(list(pdb_aas[2]))"
   ]
  },
  {
   "cell_type": "code",
   "execution_count": 17,
   "metadata": {},
   "outputs": [],
   "source": [
    "result = one_hot(text, round(vocab_size))"
   ]
  },
  {
   "cell_type": "code",
   "execution_count": 30,
   "metadata": {},
   "outputs": [],
   "source": [
    "result = np.array([result])"
   ]
  },
  {
   "cell_type": "code",
   "execution_count": 31,
   "metadata": {},
   "outputs": [
    {
     "data": {
      "text/plain": [
       "(1, 108)"
      ]
     },
     "execution_count": 31,
     "metadata": {},
     "output_type": "execute_result"
    }
   ],
   "source": [
    "result.shape"
   ]
  },
  {
   "cell_type": "code",
   "execution_count": 32,
   "metadata": {},
   "outputs": [],
   "source": [
    "max_length = 120"
   ]
  },
  {
   "cell_type": "code",
   "execution_count": 35,
   "metadata": {},
   "outputs": [],
   "source": [
    "input_train = sequence.pad_sequences(result, maxlen=max_length, padding = \"post\")"
   ]
  },
  {
   "cell_type": "code",
   "execution_count": 36,
   "metadata": {},
   "outputs": [
    {
     "data": {
      "text/plain": [
       "array([[ 9,  3,  3, 16, 12, 11, 12, 16, 16,  5, 16, 11,  9, 16, 11, 11,\n",
       "        13,  3, 11,  3, 13, 20, 15,  3, 16, 16, 15, 16, 16,  6, 15, 12,\n",
       "        12, 11, 11,  3,  9, 13, 11, 15, 16, 12, 18, 16, 16, 12, 12,  3,\n",
       "         3, 16,  3, 11,  3,  5,  9,  3, 16,  6, 11,  5,  9,  6,  3,  9,\n",
       "         3, 20,  9, 20,  3, 13, 13, 11, 12,  3,  3, 11, 15,  3, 13, 15,\n",
       "         5,  5, 13, 16, 16,  6, 15,  9, 20, 13,  3,  3, 18,  6,  9,  5,\n",
       "         3, 19,  5,  9, 16,  5, 15,  5,  6,  3, 12,  9,  0,  0,  0,  0,\n",
       "         0,  0,  0,  0,  0,  0,  0,  0]], dtype=int32)"
      ]
     },
     "execution_count": 36,
     "metadata": {},
     "output_type": "execute_result"
    }
   ],
   "source": [
    "input_train"
   ]
  },
  {
   "cell_type": "code",
   "execution_count": 132,
   "metadata": {},
   "outputs": [
    {
     "data": {
      "text/plain": [
       "'MAAGELEGGKPLSGLLNALAQDTFHGYPGITEELLRSQLYPEVPPEEFRPFLAKMRGILKSIASADMDFNQLEAFLTAQTKKQGGITSDQAAVISKFWKSHKTKIRES'"
      ]
     },
     "execution_count": 132,
     "metadata": {},
     "output_type": "execute_result"
    }
   ],
   "source": [
    "pdb_aas[2]"
   ]
  },
  {
   "cell_type": "code",
   "execution_count": null,
   "metadata": {},
   "outputs": [],
   "source": []
  },
  {
   "cell_type": "code",
   "execution_count": null,
   "metadata": {},
   "outputs": [],
   "source": []
  },
  {
   "cell_type": "code",
   "execution_count": null,
   "metadata": {},
   "outputs": [],
   "source": []
  },
  {
   "cell_type": "code",
   "execution_count": 17,
   "metadata": {
    "colab": {},
    "colab_type": "code",
    "id": "bce-ckiWXXP0"
   },
   "outputs": [],
   "source": [
    "def produce_test_output(testfile, save_path):\n",
    "    test_input = pd.read_csv(testfile, header=None)\n",
    "    protein_names = np.array(test_input.iloc[:,1])\n",
    "    protein_len = np.array(test_input.iloc[:,2])\n",
    "\n",
    "    # concatenate all output to one-dimensional\n",
    "    all_data = []\n",
    "    all_names = []\n",
    "    for i, pname in enumerate(protein_names):\n",
    "        dist_flat = dist[i].ravel()\n",
    "        array = np.concatenate([dist_flat, psi[i], phi[i]])\n",
    "        all_data.append(array)\n",
    "\n",
    "        length = protein_len[i]\n",
    "        dist_names = [\"{}_d_{}_{}\".format(pname, i + 1, j + 1) for i in range(length) for\n",
    "                j in range(length)]\n",
    "\n",
    "        psi_names = [\"{}_psi_{}\".format(pname, i + 1) for i in range(length)]\n",
    "        phi_names = [\"{}_phi_{}\".format(pname, i + 1) for i in range(length)]\n",
    "        row_names = np.array(dist_names + psi_names + phi_names)\n",
    "        all_names.append(row_names)\n",
    "\n",
    "    all_data = np.concatenate(all_data)\n",
    "    all_names = np.concatenate(all_names)\n",
    "    output = {\"Id\": all_names, \"Predicted\": all_data}\n",
    "    output = pd.DataFrame(output)\n",
    "    output.to_csv(save_path, index=False)"
   ]
  }
 ],
 "metadata": {
  "accelerator": "GPU",
  "colab": {
   "name": "HW2.ipynb",
   "provenance": [],
   "version": "0.3.2"
  },
  "kernelspec": {
   "display_name": "Python 3",
   "language": "python",
   "name": "python3"
  },
  "language_info": {
   "codemirror_mode": {
    "name": "ipython",
    "version": 3
   },
   "file_extension": ".py",
   "mimetype": "text/x-python",
   "name": "python",
   "nbconvert_exporter": "python",
   "pygments_lexer": "ipython3",
   "version": "3.7.0"
  }
 },
 "nbformat": 4,
 "nbformat_minor": 1
}
