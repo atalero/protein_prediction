{
 "cells": [
  {
   "cell_type": "code",
   "execution_count": 1,
   "metadata": {
    "colab": {},
    "colab_type": "code",
    "id": "KXJJLi92WjKg"
   },
   "outputs": [],
   "source": [
    "import pickle\n",
    "import pandas as pd\n",
    "import numpy as np"
   ]
  },
  {
   "cell_type": "code",
   "execution_count": 2,
   "metadata": {
    "colab": {},
    "colab_type": "code",
    "id": "FbBzqDfctNsv"
   },
   "outputs": [],
   "source": [
    "import tensorflow as tf"
   ]
  },
  {
   "cell_type": "code",
   "execution_count": 3,
   "metadata": {
    "colab": {},
    "colab_type": "code",
    "id": "IiGUOTJg0Qmn"
   },
   "outputs": [
    {
     "name": "stderr",
     "output_type": "stream",
     "text": [
      "Using TensorFlow backend.\n"
     ]
    }
   ],
   "source": [
    "from tensorflow import keras\n",
    "from keras.models import Sequential\n",
    "from keras.layers import Dense, Conv2D, MaxPooling2D, Flatten, Dropout"
   ]
  },
  {
   "cell_type": "markdown",
   "metadata": {
    "colab_type": "text",
    "id": "vLculauAXw3T"
   },
   "source": [
    "There are multiple ways of loading data depending on where you load it from. Just run the relevant code block below (or add your own)"
   ]
  },
  {
   "cell_type": "markdown",
   "metadata": {},
   "source": [
    "Note: I am not sure about  order of psi and phi. \n",
    "index => 0,1,2,3,...\n",
    "pdb => unique name of protein\n",
    "pdb_aa => amino acid sequence over 21 chars\n",
    "q8 => sequence over eight chars\n",
    "dist_matrix =>  ouput 1\n",
    "\n",
    "FOR PART II\n",
    "outputs are psi and phi"
   ]
  },
  {
   "cell_type": "code",
   "execution_count": 5,
   "metadata": {},
   "outputs": [],
   "source": [
    "def load_pickle(datafile):\n",
    "    # load train data for a specific fold\n",
    "    with open(datafile, 'rb') as f:\n",
    "        data =  pickle.load(f)\n",
    "    return data"
   ]
  },
  {
   "cell_type": "code",
   "execution_count": null,
   "metadata": {},
   "outputs": [],
   "source": []
  },
  {
   "cell_type": "markdown",
   "metadata": {},
   "source": [
    "FINDING MAX_LENGTH OF ANY  GIVEN SEQUENCE"
   ]
  },
  {
   "cell_type": "code",
   "execution_count": 8,
   "metadata": {},
   "outputs": [],
   "source": [
    "#find the maxlength sequence\n",
    "max_input_length = 0\n",
    "for i in range(1,10):\n",
    "    indices, pdbs, length_aas, pdb_aas, q8s, dcalphas, psis, phis, msas = load_pickle(\"../data/train_fold_\"+str(i) +\".pkl\")\n",
    "    if max(length_aas)>m:\n",
    "        max_input_length = max(length_aas)\n",
    "    "
   ]
  },
  {
   "cell_type": "code",
   "execution_count": 13,
   "metadata": {},
   "outputs": [],
   "source": [
    "indices, pdbs, length_aas, pdb_aas, q8s, msas = load_pickle(\"../data/test.pkl\")"
   ]
  },
  {
   "cell_type": "code",
   "execution_count": 7,
   "metadata": {},
   "outputs": [],
   "source": [
    "indices, pdbs, length_aas, pdb_aas, q8s, dcalphas, psis, phis, msas  = load_pickle(\"../data/train_fold_1.pkl\")"
   ]
  },
  {
   "cell_type": "code",
   "execution_count": 9,
   "metadata": {},
   "outputs": [
    {
     "data": {
      "text/plain": [
       "list"
      ]
     },
     "execution_count": 9,
     "metadata": {},
     "output_type": "execute_result"
    }
   ],
   "source": [
    "type(dcalphas)"
   ]
  },
  {
   "cell_type": "code",
   "execution_count": 16,
   "metadata": {},
   "outputs": [
    {
     "data": {
      "text/plain": [
       "[75, 116, 136, 300, 229, 239]"
      ]
     },
     "execution_count": 16,
     "metadata": {},
     "output_type": "execute_result"
    }
   ],
   "source": [
    "length_aas"
   ]
  },
  {
   "cell_type": "code",
   "execution_count": 11,
   "metadata": {},
   "outputs": [
    {
     "data": {
      "text/plain": [
       "1664"
      ]
     },
     "execution_count": 11,
     "metadata": {},
     "output_type": "execute_result"
    }
   ],
   "source": [
    "#MAX LENGTH FOR ANY INPUT SEQUENCE\n",
    "max_input_length"
   ]
  },
  {
   "cell_type": "code",
   "execution_count": 21,
   "metadata": {},
   "outputs": [],
   "source": [
    "max_input_length = 1664"
   ]
  },
  {
   "cell_type": "code",
   "execution_count": null,
   "metadata": {},
   "outputs": [],
   "source": []
  },
  {
   "cell_type": "code",
   "execution_count": null,
   "metadata": {},
   "outputs": [],
   "source": []
  },
  {
   "cell_type": "code",
   "execution_count": null,
   "metadata": {},
   "outputs": [],
   "source": []
  },
  {
   "cell_type": "code",
   "execution_count": 17,
   "metadata": {},
   "outputs": [],
   "source": [
    "indices, pdbs, length_aas, pdb_aas, q8s, dcalphas, psis, phis, msas = load_pickle(\"../data/train_fold_3.pkl\")"
   ]
  },
  {
   "cell_type": "code",
   "execution_count": null,
   "metadata": {},
   "outputs": [],
   "source": []
  },
  {
   "cell_type": "code",
   "execution_count": null,
   "metadata": {},
   "outputs": [],
   "source": []
  },
  {
   "cell_type": "code",
   "execution_count": 56,
   "metadata": {
    "collapsed": true
   },
   "outputs": [],
   "source": [
    "#get the max length of some input sequence\n",
    "max_length = max(length_aas)"
   ]
  },
  {
   "cell_type": "markdown",
   "metadata": {},
   "source": [
    "Data Preprocessing"
   ]
  },
  {
   "cell_type": "code",
   "execution_count": 23,
   "metadata": {},
   "outputs": [],
   "source": [
    "from keras.preprocessing import sequence"
   ]
  },
  {
   "cell_type": "code",
   "execution_count": 24,
   "metadata": {},
   "outputs": [
    {
     "name": "stderr",
     "output_type": "stream",
     "text": [
      "/home/andres/anaconda3/lib/python3.7/site-packages/sklearn/externals/joblib/_multiprocessing_helpers.py:38: UserWarning: [Errno 12] Cannot allocate memory.  joblib will operate in serial mode\n",
      "  warnings.warn('%s.  joblib will operate in serial mode' % (e,))\n"
     ]
    }
   ],
   "source": [
    "from sklearn.preprocessing import OneHotEncoder"
   ]
  },
  {
   "cell_type": "code",
   "execution_count": 103,
   "metadata": {},
   "outputs": [],
   "source": [
    "aa_list = list('ACEDGFIHKMLNQPSRTWVYX') + ['NoSeq'] #CHECK THIS\n",
    "q8_list = list('LBEGIHST') + ['NoSeq']"
   ]
  },
  {
   "cell_type": "code",
   "execution_count": 25,
   "metadata": {},
   "outputs": [],
   "source": [
    "from keras.preprocessing.text import one_hot\n",
    "from keras.preprocessing.text import text_to_word_sequence"
   ]
  },
  {
   "cell_type": "code",
   "execution_count": 26,
   "metadata": {},
   "outputs": [],
   "source": [
    "from keras.utils import to_categorical"
   ]
  },
  {
   "cell_type": "code",
   "execution_count": 264,
   "metadata": {},
   "outputs": [],
   "source": [
    "text_aa = \" \".join(list(pdb_aas[2]))"
   ]
  },
  {
   "cell_type": "code",
   "execution_count": 265,
   "metadata": {},
   "outputs": [],
   "source": [
    "text_q8 = \" \".join(list(q8s[2]))"
   ]
  },
  {
   "cell_type": "code",
   "execution_count": 268,
   "metadata": {},
   "outputs": [],
   "source": [
    "result_aa = one_hot(text_aa,  len(aa_list), filters='')\n",
    "result_q8 = one_hot(text_q8, len(q8_list), filters='')"
   ]
  },
  {
   "cell_type": "code",
   "execution_count": 271,
   "metadata": {},
   "outputs": [],
   "source": [
    "result_aa = np.array(result_aa)\n",
    "result_q8 = np.array(result_q8)"
   ]
  },
  {
   "cell_type": "code",
   "execution_count": 272,
   "metadata": {},
   "outputs": [
    {
     "data": {
      "text/plain": [
       "(108,)"
      ]
     },
     "execution_count": 272,
     "metadata": {},
     "output_type": "execute_result"
    }
   ],
   "source": [
    "result_aa.shape"
   ]
  },
  {
   "cell_type": "code",
   "execution_count": 273,
   "metadata": {},
   "outputs": [
    {
     "data": {
      "text/plain": [
       "(108,)"
      ]
     },
     "execution_count": 273,
     "metadata": {},
     "output_type": "execute_result"
    }
   ],
   "source": [
    "result_q8.shape"
   ]
  },
  {
   "cell_type": "code",
   "execution_count": 274,
   "metadata": {},
   "outputs": [],
   "source": [
    "encoded_aa = to_categorical(result_aa)\n",
    "encoded_q8 = to_categorical(result_q8)"
   ]
  },
  {
   "cell_type": "code",
   "execution_count": 275,
   "metadata": {},
   "outputs": [],
   "source": [
    "encoded_aa = encoded_aa.T\n",
    "encoded_q8 = encoded_q8.T"
   ]
  },
  {
   "cell_type": "code",
   "execution_count": 276,
   "metadata": {},
   "outputs": [
    {
     "data": {
      "text/plain": [
       "(21, 108)"
      ]
     },
     "execution_count": 276,
     "metadata": {},
     "output_type": "execute_result"
    }
   ],
   "source": [
    "encoded_aa.shape"
   ]
  },
  {
   "cell_type": "code",
   "execution_count": 277,
   "metadata": {},
   "outputs": [
    {
     "data": {
      "text/plain": [
       "(8, 108)"
      ]
     },
     "execution_count": 277,
     "metadata": {},
     "output_type": "execute_result"
    }
   ],
   "source": [
    "encoded_q8.shape"
   ]
  },
  {
   "cell_type": "code",
   "execution_count": 280,
   "metadata": {},
   "outputs": [],
   "source": [
    "max_length = 200"
   ]
  },
  {
   "cell_type": "code",
   "execution_count": 286,
   "metadata": {},
   "outputs": [],
   "source": [
    "#concatenate vertically\n",
    "input_train = np.vstack((encoded_aa, encoded_q8))"
   ]
  },
  {
   "cell_type": "code",
   "execution_count": 287,
   "metadata": {},
   "outputs": [],
   "source": [
    "#pad the sequence\n",
    "input_train = sequence.pad_sequences(input_train, maxlen=max_length, padding = \"post\")"
   ]
  },
  {
   "cell_type": "code",
   "execution_count": 288,
   "metadata": {},
   "outputs": [
    {
     "data": {
      "text/plain": [
       "(29, 200)"
      ]
     },
     "execution_count": 288,
     "metadata": {},
     "output_type": "execute_result"
    }
   ],
   "source": [
    "input_train.shape"
   ]
  },
  {
   "cell_type": "code",
   "execution_count": 289,
   "metadata": {},
   "outputs": [
    {
     "data": {
      "text/plain": [
       "array([0, 0, 0, 0, 0, 0, 0, 0, 0, 1, 0, 0, 0, 0, 0, 0, 0, 0, 0, 0, 0, 0,\n",
       "       0, 0, 0, 0, 1, 0, 0], dtype=int32)"
      ]
     },
     "execution_count": 289,
     "metadata": {},
     "output_type": "execute_result"
    }
   ],
   "source": [
    "#example\n",
    "input_train[:,0]"
   ]
  },
  {
   "cell_type": "code",
   "execution_count": 228,
   "metadata": {},
   "outputs": [],
   "source": [
    "#preprocess the whole file?"
   ]
  },
  {
   "cell_type": "code",
   "execution_count": null,
   "metadata": {},
   "outputs": [],
   "source": []
  },
  {
   "cell_type": "code",
   "execution_count": 229,
   "metadata": {},
   "outputs": [],
   "source": [
    "#copying code from https://danijar.com/variable-sequence-lengths-in-tensorflow/"
   ]
  },
  {
   "cell_type": "code",
   "execution_count": 290,
   "metadata": {},
   "outputs": [],
   "source": [
    "input_train = input_train.T"
   ]
  },
  {
   "cell_type": "code",
   "execution_count": 291,
   "metadata": {},
   "outputs": [],
   "source": [
    "input_train = np.expand_dims(input_train, axis=0)"
   ]
  },
  {
   "cell_type": "code",
   "execution_count": 292,
   "metadata": {},
   "outputs": [
    {
     "data": {
      "text/plain": [
       "(1, 200, 29)"
      ]
     },
     "execution_count": 292,
     "metadata": {},
     "output_type": "execute_result"
    }
   ],
   "source": [
    "#dimensions of data => batch size x max length x features\n",
    "input_train.shape"
   ]
  },
  {
   "cell_type": "code",
   "execution_count": null,
   "metadata": {},
   "outputs": [],
   "source": []
  },
  {
   "cell_type": "code",
   "execution_count": null,
   "metadata": {},
   "outputs": [],
   "source": []
  },
  {
   "cell_type": "code",
   "execution_count": 293,
   "metadata": {},
   "outputs": [],
   "source": [
    "def length(data):\n",
    "    sequence = tf.convert_to_tensor(data, dtype=tf.float32)\n",
    "    used = tf.sign(tf.reduce_max(tf.abs(sequence), 2))\n",
    "    length = tf.reduce_sum(used, 1)\n",
    "    length = tf.cast(length, tf.int32)\n",
    "    return length"
   ]
  },
  {
   "cell_type": "code",
   "execution_count": null,
   "metadata": {},
   "outputs": [],
   "source": []
  },
  {
   "cell_type": "code",
   "execution_count": 294,
   "metadata": {},
   "outputs": [],
   "source": [
    "r = length(input_train)"
   ]
  },
  {
   "cell_type": "code",
   "execution_count": 295,
   "metadata": {},
   "outputs": [],
   "source": [
    "#this function would return a vector with the length of every single sequence in the batch "
   ]
  },
  {
   "cell_type": "code",
   "execution_count": 296,
   "metadata": {},
   "outputs": [
    {
     "name": "stdout",
     "output_type": "stream",
     "text": [
      "[108]\n"
     ]
    }
   ],
   "source": [
    "with tf.Session() as sess:\n",
    "    # This tells Tensorflow we woud like to evaluate the Tensor `result`. \n",
    "    output = sess.run(r)\n",
    "    print(output)"
   ]
  },
  {
   "cell_type": "code",
   "execution_count": null,
   "metadata": {},
   "outputs": [],
   "source": []
  },
  {
   "cell_type": "code",
   "execution_count": null,
   "metadata": {},
   "outputs": [],
   "source": [
    "#TUTORIAL_CODE: this placeholder again is for input dimension => batch_size * max_sequence_length * num_features\n",
    "sequence = tf.placeholder(tf.float32, [None, max_length, frame_size])"
   ]
  },
  {
   "cell_type": "code",
   "execution_count": null,
   "metadata": {},
   "outputs": [],
   "source": [
    "#TUTORIAL CODE\n",
    "max_length = 100\n",
    "frame_size = 64\n",
    "num_hidden = 200\n",
    "\n",
    "sequence = tf.placeholder(\n",
    "    tf.float32, [None, max_length, frame_size])\n",
    "output, state = tf.nn.dynamic_rnn(\n",
    "    tf.contrib.rnn.GRUCell(num_hidden),\n",
    "    sequence,\n",
    "    dtype=tf.float32,\n",
    "    #this generates lengths vecotors, such that state returns weights only for sequenc up to first zero (if any)\n",
    "    sequence_length=length(sequence),  \n",
    ")"
   ]
  },
  {
   "cell_type": "code",
   "execution_count": null,
   "metadata": {},
   "outputs": [],
   "source": []
  },
  {
   "cell_type": "code",
   "execution_count": null,
   "metadata": {},
   "outputs": [],
   "source": []
  },
  {
   "cell_type": "code",
   "execution_count": 297,
   "metadata": {},
   "outputs": [],
   "source": [
    "#output processing and masking!"
   ]
  },
  {
   "cell_type": "code",
   "execution_count": null,
   "metadata": {},
   "outputs": [],
   "source": [
    "#note=> * is element-wise multiplication for tensors`"
   ]
  },
  {
   "cell_type": "code",
   "execution_count": null,
   "metadata": {},
   "outputs": [],
   "source": [
    "\"\"\"\n",
    "Note that our output will still be of size batch_size x max_length x out_size,\n",
    "but with the last being zero vectors for sequences shorter than the maximum length.\n",
    "\"\"\""
   ]
  },
  {
   "cell_type": "code",
   "execution_count": null,
   "metadata": {},
   "outputs": [],
   "source": []
  },
  {
   "cell_type": "markdown",
   "metadata": {},
   "source": [
    "Experimenting with Tensorflow"
   ]
  },
  {
   "cell_type": "code",
   "execution_count": 302,
   "metadata": {},
   "outputs": [],
   "source": [
    "x = tf.constant([[[2, 3, 2], \n",
    "                 [2, 3, 2]],\n",
    "                [[1, 1, 1], \n",
    "                 [1, 1, 1]]])"
   ]
  },
  {
   "cell_type": "code",
   "execution_count": 303,
   "metadata": {},
   "outputs": [],
   "source": [
    "\n"
   ]
  },
  {
   "cell_type": "code",
   "execution_count": 310,
   "metadata": {},
   "outputs": [
    {
     "name": "stdout",
     "output_type": "stream",
     "text": [
      "[[7 7]\n",
      " [3 3]]\n"
     ]
    }
   ],
   "source": [
    "s = tf.reduce_sum(x, 2)  # [2, 2, 2]\n",
    "with tf.Session() as sess:\n",
    "    # This tells Tensorflow we woud like to evaluate the Tensor `result`. \n",
    "    output = sess.run(s)\n",
    "    print(output)"
   ]
  },
  {
   "cell_type": "code",
   "execution_count": null,
   "metadata": {},
   "outputs": [],
   "source": [
    "\"\"\"\n",
    "https://stats.stackexchange.com/questions/330176/what-is-the-output-of-a-tf-nn-dynamic-rnn\n",
    "So the state is a convenient tensor that holds the last actual RNN state, ignoring the zeros. \n",
    "The output tensor holds the outputs of all cells, so it doesn't ignore the zeros\n",
    "\"\"\""
   ]
  },
  {
   "cell_type": "code",
   "execution_count": 17,
   "metadata": {
    "colab": {},
    "colab_type": "code",
    "collapsed": true,
    "id": "bce-ckiWXXP0"
   },
   "outputs": [],
   "source": [
    "#code to produce Kaggle output (provided in class)\n",
    "def produce_test_output(testfile, save_path):\n",
    "    test_input = pd.read_csv(testfile, header=None)\n",
    "    protein_names = np.array(test_input.iloc[:,1])\n",
    "    protein_len = np.array(test_input.iloc[:,2])\n",
    "\n",
    "    # concatenate all output to one-dimensional\n",
    "    all_data = []\n",
    "    all_names = []\n",
    "    for i, pname in enumerate(protein_names):\n",
    "        dist_flat = dist[i].ravel()\n",
    "        array = np.concatenate([dist_flat, psi[i], phi[i]])\n",
    "        all_data.append(array)\n",
    "\n",
    "        length = protein_len[i]\n",
    "        dist_names = [\"{}_d_{}_{}\".format(pname, i + 1, j + 1) for i in range(length) for\n",
    "                j in range(length)]\n",
    "\n",
    "        psi_names = [\"{}_psi_{}\".format(pname, i + 1) for i in range(length)]\n",
    "        phi_names = [\"{}_phi_{}\".format(pname, i + 1) for i in range(length)]\n",
    "        row_names = np.array(dist_names + psi_names + phi_names)\n",
    "        all_names.append(row_names)\n",
    "\n",
    "    all_data = np.concatenate(all_data)\n",
    "    all_names = np.concatenate(all_names)\n",
    "    output = {\"Id\": all_names, \"Predicted\": all_data}\n",
    "    output = pd.DataFrame(output)\n",
    "    output.to_csv(save_path, index=False)"
   ]
  },
  {
   "cell_type": "code",
   "execution_count": null,
   "metadata": {},
   "outputs": [],
   "source": []
  },
  {
   "cell_type": "code",
   "execution_count": 207,
   "metadata": {},
   "outputs": [],
   "source": [
    "import numpy as np\n",
    "\n",
    "def my_func(arg):\n",
    "    arg = tf.convert_to_tensor(arg, dtype=tf.float32)\n",
    "    return tf.matmul(arg, arg) + arg\n",
    "\n",
    "# The following calls are equivalent.\n",
    "value_1 = my_func(tf.constant([[1.0, 2.0], [3.0, 4.0]]))\n",
    "value_2 = my_func([[1.0, 2.0], [3.0, 4.0]])\n",
    "value_3 = my_func(np.array([[1.0, 2.0], [3.0, 4.0]], dtype=np.float32))"
   ]
  },
  {
   "cell_type": "code",
   "execution_count": 208,
   "metadata": {},
   "outputs": [
    {
     "data": {
      "text/plain": [
       "<tf.Tensor 'add:0' shape=(2, 2) dtype=float32>"
      ]
     },
     "execution_count": 208,
     "metadata": {},
     "output_type": "execute_result"
    }
   ],
   "source": [
    "value_1"
   ]
  },
  {
   "cell_type": "code",
   "execution_count": null,
   "metadata": {},
   "outputs": [],
   "source": []
  },
  {
   "cell_type": "markdown",
   "metadata": {},
   "source": [
    "Produce Padded Output"
   ]
  },
  {
   "cell_type": "code",
   "execution_count": 20,
   "metadata": {},
   "outputs": [
    {
     "data": {
      "text/plain": [
       "(162, 162)"
      ]
     },
     "execution_count": 20,
     "metadata": {},
     "output_type": "execute_result"
    }
   ],
   "source": [
    "dcalphas[0].shape"
   ]
  },
  {
   "cell_type": "code",
   "execution_count": 23,
   "metadata": {},
   "outputs": [],
   "source": [
    "extra_cols = max_input_length - dcalphas[0].shape[1]"
   ]
  },
  {
   "cell_type": "code",
   "execution_count": 26,
   "metadata": {},
   "outputs": [
    {
     "data": {
      "text/plain": [
       "162"
      ]
     },
     "execution_count": 26,
     "metadata": {},
     "output_type": "execute_result"
    }
   ],
   "source": [
    "dcalphas[0].shape[0]"
   ]
  },
  {
   "cell_type": "code",
   "execution_count": 22,
   "metadata": {},
   "outputs": [],
   "source": [
    "extra_rows = max_input_length - dcalphas[0].shape[0]"
   ]
  },
  {
   "cell_type": "code",
   "execution_count": 32,
   "metadata": {},
   "outputs": [],
   "source": [
    "cols_zeros = np.zeros((dcalphas[0].shape[0], extra_cols))"
   ]
  },
  {
   "cell_type": "code",
   "execution_count": 41,
   "metadata": {},
   "outputs": [],
   "source": [
    "rows_zeros = np.zeros((extra_rows, max_input_length))"
   ]
  },
  {
   "cell_type": "code",
   "execution_count": 36,
   "metadata": {},
   "outputs": [],
   "source": [
    "f_array = np.hstack((dcalphas[0], cols_zeros))"
   ]
  },
  {
   "cell_type": "code",
   "execution_count": 40,
   "metadata": {},
   "outputs": [
    {
     "data": {
      "text/plain": [
       "(162, 1664)"
      ]
     },
     "execution_count": 40,
     "metadata": {},
     "output_type": "execute_result"
    }
   ],
   "source": [
    "f_array.shape"
   ]
  },
  {
   "cell_type": "code",
   "execution_count": 42,
   "metadata": {},
   "outputs": [],
   "source": [
    "f_array = np.vstack((f_array, rows_zeros))"
   ]
  },
  {
   "cell_type": "code",
   "execution_count": 43,
   "metadata": {},
   "outputs": [
    {
     "data": {
      "text/plain": [
       "(1664, 1664)"
      ]
     },
     "execution_count": 43,
     "metadata": {},
     "output_type": "execute_result"
    }
   ],
   "source": [
    "f_array.shape"
   ]
  },
  {
   "cell_type": "code",
   "execution_count": 12,
   "metadata": {},
   "outputs": [],
   "source": [
    "def produce_outputs(dcalphas, max_input_length):\n",
    "    outputs = []\n",
    "    \n",
    "    for element in dcalphas:\n",
    "        extra_cols = max_input_length - element.shape[1]\n",
    "        extra_rows = max_input_length - element.shape[0]\n",
    "        \n",
    "        cols_zeros = np.zeros((element.shape[0], extra_cols))\n",
    "        rows_zeros = np.zeros((extra_rows, max_input_length))\n",
    "        \n",
    "        f_array = np.hstack((element, cols_zeros))\n",
    "        f_array = np.vstack((f_array, rows_zeros))\n",
    "        \n",
    "        outputs.append(f_array)\n",
    "        \n",
    "    return outputs"
   ]
  },
  {
   "cell_type": "code",
   "execution_count": 20,
   "metadata": {},
   "outputs": [],
   "source": [
    "sequence_length = 1664"
   ]
  },
  {
   "cell_type": "code",
   "execution_count": 13,
   "metadata": {},
   "outputs": [],
   "source": [
    "outputs = produce_outputs(dcalphas,sequence_length)"
   ]
  },
  {
   "cell_type": "code",
   "execution_count": 69,
   "metadata": {},
   "outputs": [
    {
     "data": {
      "text/plain": [
       "(1664, 1664)"
      ]
     },
     "execution_count": 69,
     "metadata": {},
     "output_type": "execute_result"
    }
   ],
   "source": [
    "outputs[0].shape"
   ]
  },
  {
   "cell_type": "code",
   "execution_count": 56,
   "metadata": {},
   "outputs": [],
   "source": [
    "def produce_inputs(pdb_aas, q8s, msas, sequence_length):\n",
    "    aa_list = 'ACDEFGHIKLMNPQRSTVWXY'\n",
    "    q8_list = 'GHITEBS-'\n",
    "    \n",
    "    inputs = []\n",
    "    \n",
    "    for aa, q8, msa in zip(pdb_aas, q8s, msas):\n",
    "        text_aa = \" \".join(list(aa))\n",
    "        text_q8 = \" \".join(list(q8))\n",
    "        \n",
    "        msa = np.array(msa).astype(np.float)\n",
    "        \n",
    "        result_aa = one_hot(text_aa,  len(aa_list), filters='')\n",
    "        result_q8 = one_hot(text_q8, len(q8_list), filters='')\n",
    "        \n",
    "        result_aa = np.array(result_aa)\n",
    "        result_q8 = np.array(result_q8)\n",
    "        \n",
    "        encoded_aa = to_categorical(result_aa)\n",
    "        encoded_q8 = to_categorical(result_q8)\n",
    "        \n",
    "        encoded_aa = encoded_aa.T\n",
    "        encoded_q8 = encoded_q8.T\n",
    "        \n",
    "        input_train = np.vstack((encoded_aa, encoded_q8))\n",
    "        input_train = np.vstack((input_train, msa))\n",
    "        \n",
    "        #pad the sequence\n",
    "        input_train = sequence.pad_sequences(input_train, maxlen=max_length, padding = \"post\")\n",
    "        \n",
    "        inputs.append(input_train.T) #current shape is 1664, 50\n",
    "        \n",
    "    return inputs\n",
    "        "
   ]
  },
  {
   "cell_type": "code",
   "execution_count": 57,
   "metadata": {},
   "outputs": [],
   "source": [
    "inputs = produce_inputs(pdb_aas, q8s, msas, sequence_length)"
   ]
  },
  {
   "cell_type": "code",
   "execution_count": 61,
   "metadata": {},
   "outputs": [],
   "source": [
    "input_length = 1664\n",
    "num_features = 50"
   ]
  },
  {
   "cell_type": "code",
   "execution_count": null,
   "metadata": {},
   "outputs": [],
   "source": []
  },
  {
   "cell_type": "code",
   "execution_count": null,
   "metadata": {},
   "outputs": [],
   "source": [
    "#Building the model and training"
   ]
  },
  {
   "cell_type": "code",
   "execution_count": 72,
   "metadata": {},
   "outputs": [],
   "source": [
    "import tensorflow as tf\n",
    "sess = tf.Session()\n",
    "\n",
    "from keras import backend as K\n",
    "K.set_session(sess)"
   ]
  },
  {
   "cell_type": "code",
   "execution_count": 79,
   "metadata": {},
   "outputs": [],
   "source": [
    "from keras.layers import Bidirectional"
   ]
  },
  {
   "cell_type": "code",
   "execution_count": 80,
   "metadata": {},
   "outputs": [],
   "source": [
    "from keras.layers import LSTM"
   ]
  },
  {
   "cell_type": "code",
   "execution_count": 81,
   "metadata": {},
   "outputs": [],
   "source": [
    "from keras.layers import RNN"
   ]
  },
  {
   "cell_type": "code",
   "execution_count": 87,
   "metadata": {},
   "outputs": [
    {
     "name": "stdout",
     "output_type": "stream",
     "text": [
      "WARNING:tensorflow:From /home/andres/anaconda3/lib/python3.7/site-packages/tensorflow/python/ops/losses/losses_impl.py:667: to_float (from tensorflow.python.ops.math_ops) is deprecated and will be removed in a future version.\n",
      "Instructions for updating:\n",
      "Use tf.cast instead.\n"
     ]
    }
   ],
   "source": [
    "#keras.layers.LSTM(units, activation='tanh', recurrent_activation='hard_sigmoid', use_bias=True,\n",
    "#kernel_initializer='glorot_uniform', recurrent_initializer='orthogonal', bias_initializer='zeros', \n",
    "#unit_forget_bias=True, kernel_regularizer=None, recurrent_regularizer=None, bias_regularizer=None, \n",
    "#activity_regularizer=None, kernel_constraint=None, recurrent_constraint=None, bias_constraint=None, \n",
    "#dropout=0.0, recurrent_dropout=0.0, implementation=1, return_sequences=False,\n",
    "#return_state=False, go_backwards=False, stateful=False, unroll=False)\n",
    "\n",
    "batch_size = tf.placeholder(tf.int64)\n",
    "\n",
    "dataset = tf.data.Dataset.from_tensor_slices((x, y)).batch(batch_size).repeat()\n",
    "\n",
    "iterator = dataset.make_initializable_iterator()\n",
    "\n",
    "features, labels = iterator.get_next()\n",
    "\n",
    "#we use None to allow batch_size to be variable\n",
    "x = tf.placeholder(tf.float32, shape=[None,input_length, num_features])\n",
    "y = tf.placeholder(tf.float32, shape=[None,input_length, input_length]) #=> refers to distance matrices\n",
    "\n",
    "m = tf.zeros([batch_size, input_length, num_features], tf.int32) \n",
    "\n",
    "mask = tf.math.greater(x,m)\n",
    "\n",
    "#input shape=>Only applicable if the layer has exactly one input, \n",
    "#i.e. if it is connected to one incoming layer, or if all inputs have the same shape.\n",
    "l = Bidirectional(LSTM(10, return_sequences=True), input_shape=(None,input_length, num_features))(x)\n",
    "\n",
    "l = Dense(128, activation='relu')(l)\n",
    "l = Dense(input_length**2, activation='relu')(l)\n",
    "\n",
    "l = tf.reshape(l, [batch_size,input_length, input_length]) \n",
    "\n",
    "l = mask * l #element wise multiplication\n",
    "\n",
    "loss = tf.losses.mean_squared_error(l, y) # pass the second value from iter.get_net() as label\n",
    "\n",
    "train_op = tf.train.AdamOptimizer().minimize(loss)"
   ]
  },
  {
   "cell_type": "code",
   "execution_count": null,
   "metadata": {},
   "outputs": [],
   "source": []
  },
  {
   "cell_type": "code",
   "execution_count": null,
   "metadata": {},
   "outputs": [],
   "source": [
    "with tf.Session() as sess:\n",
    "    sess.run(tf.global_variables_initializer())\n",
    "    \n",
    "    # initialise iterator with train data\n",
    "    sess.run(iterator.initializer, feed_dict={ x: inputs, y: outputs, batch_size: BATCH_SIZE})\n",
    "    \n",
    "    print('Training...')\n",
    "    for i in range(EPOCHS):\n",
    "        tot_loss = 0\n",
    "        \n",
    "        for _ in range(n_batches):\n",
    "            _, loss_value = sess.run([train_op, loss])\n",
    "            \n",
    "            tot_loss += loss_value\n",
    "        \n",
    "        print(\"Iter: {}, Loss: {:.4f}\".format(i, tot_loss / n_batches))"
   ]
  },
  {
   "cell_type": "code",
   "execution_count": null,
   "metadata": {},
   "outputs": [],
   "source": [
    "train_step = tf.train.GradientDescentOptimizer(0.5).minimize(loss)\n",
    "\n",
    "# Initialize all variables\n",
    "init_op = tf.global_variables_initializer()\n",
    "sess.run(init_op)\n",
    "\n",
    "# Run training loop\n",
    "with sess.as_default():\n",
    "    for i in range(100):\n",
    "        batch = mnist_data.train.next_batch(50)\n",
    "        train_step.run(feed_dict={img: batch[0],\n",
    "                                  labels: batch[1]})"
   ]
  }
 ],
 "metadata": {
  "accelerator": "GPU",
  "colab": {
   "name": "HW2.ipynb",
   "provenance": [],
   "version": "0.3.2"
  },
  "kernelspec": {
   "display_name": "Python 3",
   "language": "python",
   "name": "python3"
  },
  "language_info": {
   "codemirror_mode": {
    "name": "ipython",
    "version": 3
   },
   "file_extension": ".py",
   "mimetype": "text/x-python",
   "name": "python",
   "nbconvert_exporter": "python",
   "pygments_lexer": "ipython3",
   "version": "3.7.0"
  }
 },
 "nbformat": 4,
 "nbformat_minor": 1
}
